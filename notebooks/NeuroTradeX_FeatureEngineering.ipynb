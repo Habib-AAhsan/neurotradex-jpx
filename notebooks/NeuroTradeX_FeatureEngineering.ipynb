{
 "cells": [
  {
   "cell_type": "markdown",
   "id": "48361be2",
   "metadata": {},
   "source": [
    "# 🧠 NeuroTradeX: Feature Engineering\n",
    "This notebook creates trading-relevant features based on raw stock data."
   ]
  },
  {
   "cell_type": "code",
   "execution_count": 1,
   "id": "1f2ab2e0",
   "metadata": {},
   "outputs": [],
   "source": [
    "import pandas as pd\n",
    "import numpy as np\n",
    "import matplotlib.pyplot as plt\n",
    "import seaborn as sns\n",
    "\n",
    "# Load data\n",
    "df = pd.read_csv('../data/train_files/stock_prices.csv', parse_dates=['Date'])\n",
    "df.sort_values(by=['SecuritiesCode', 'Date'], inplace=True)\n",
    "df.reset_index(drop=True, inplace=True)\n"
   ]
  },
  {
   "cell_type": "markdown",
   "id": "6e4d43bb",
   "metadata": {},
   "source": [
    "## 🎯 Create Core Features"
   ]
  },
  {
   "cell_type": "code",
   "execution_count": 2,
   "id": "bebc04b7",
   "metadata": {},
   "outputs": [],
   "source": [
    "# Daily return\n",
    "# df['Return'] = df.groupby('SecuritiesCode')['Close'].pct_change()\n",
    "# Daily return without implicit forward fill\n",
    "df['Return'] = df.groupby('SecuritiesCode')['Close'].pct_change(fill_method=None)\n",
    "\n",
    "\n",
    "# 10-day rolling volatility\n",
    "df['Volatility_10'] = df.groupby('SecuritiesCode')['Return'].rolling(window=10).std().reset_index(level=0, drop=True)\n",
    "\n",
    "# 10-day and 30-day moving averages\n",
    "df['MA_10'] = df.groupby('SecuritiesCode')['Close'].transform(lambda x: x.rolling(window=10).mean())\n",
    "df['MA_30'] = df.groupby('SecuritiesCode')['Close'].transform(lambda x: x.rolling(window=30).mean())\n",
    "\n",
    "# Volume change (day-over-day)\n",
    "df['Volume_Change'] = df.groupby('SecuritiesCode')['Volume'].pct_change()\n"
   ]
  },
  {
   "cell_type": "markdown",
   "id": "7cc18109",
   "metadata": {},
   "source": [
    "## ⚠️ Flag Features"
   ]
  },
  {
   "cell_type": "code",
   "execution_count": 3,
   "id": "6e6474e2",
   "metadata": {},
   "outputs": [],
   "source": [
    "# Bullish crossover flag\n",
    "df['Crossover_Bullish'] = (df['MA_10'] > df['MA_30']).astype(int)\n",
    "\n",
    "# Volume spike flag: today's volume > 2x 10-day average\n",
    "df['Volume_Avg_10'] = df.groupby('SecuritiesCode')['Volume'].transform(lambda x: x.rolling(window=10).mean())\n",
    "df['Vol_Surge_Flag'] = (df['Volume'] > 2 * df['Volume_Avg_10']).astype(int)\n"
   ]
  },
  {
   "cell_type": "markdown",
   "id": "f3781075",
   "metadata": {},
   "source": [
    "## 🔍 Sample Output"
   ]
  },
  {
   "cell_type": "code",
   "execution_count": 4,
   "id": "70b358c2",
   "metadata": {},
   "outputs": [
    {
     "data": {
      "text/html": [
       "<div>\n",
       "<style scoped>\n",
       "    .dataframe tbody tr th:only-of-type {\n",
       "        vertical-align: middle;\n",
       "    }\n",
       "\n",
       "    .dataframe tbody tr th {\n",
       "        vertical-align: top;\n",
       "    }\n",
       "\n",
       "    .dataframe thead th {\n",
       "        text-align: right;\n",
       "    }\n",
       "</style>\n",
       "<table border=\"1\" class=\"dataframe\">\n",
       "  <thead>\n",
       "    <tr style=\"text-align: right;\">\n",
       "      <th></th>\n",
       "      <th>Date</th>\n",
       "      <th>SecuritiesCode</th>\n",
       "      <th>Close</th>\n",
       "      <th>Return</th>\n",
       "      <th>Volatility_10</th>\n",
       "      <th>MA_10</th>\n",
       "      <th>MA_30</th>\n",
       "      <th>Crossover_Bullish</th>\n",
       "      <th>Vol_Surge_Flag</th>\n",
       "    </tr>\n",
       "  </thead>\n",
       "  <tbody>\n",
       "    <tr>\n",
       "      <th>2332521</th>\n",
       "      <td>2021-11-19</td>\n",
       "      <td>9997</td>\n",
       "      <td>716.0</td>\n",
       "      <td>0.000000</td>\n",
       "      <td>0.010893</td>\n",
       "      <td>744.7</td>\n",
       "      <td>787.800000</td>\n",
       "      <td>0</td>\n",
       "      <td>0</td>\n",
       "    </tr>\n",
       "    <tr>\n",
       "      <th>2332522</th>\n",
       "      <td>2021-11-22</td>\n",
       "      <td>9997</td>\n",
       "      <td>712.0</td>\n",
       "      <td>-0.005587</td>\n",
       "      <td>0.010850</td>\n",
       "      <td>739.2</td>\n",
       "      <td>784.066667</td>\n",
       "      <td>0</td>\n",
       "      <td>0</td>\n",
       "    </tr>\n",
       "    <tr>\n",
       "      <th>2332523</th>\n",
       "      <td>2021-11-24</td>\n",
       "      <td>9997</td>\n",
       "      <td>703.0</td>\n",
       "      <td>-0.012640</td>\n",
       "      <td>0.010940</td>\n",
       "      <td>733.2</td>\n",
       "      <td>779.300000</td>\n",
       "      <td>0</td>\n",
       "      <td>0</td>\n",
       "    </tr>\n",
       "    <tr>\n",
       "      <th>2332524</th>\n",
       "      <td>2021-11-25</td>\n",
       "      <td>9997</td>\n",
       "      <td>706.0</td>\n",
       "      <td>0.004267</td>\n",
       "      <td>0.011130</td>\n",
       "      <td>727.3</td>\n",
       "      <td>775.066667</td>\n",
       "      <td>0</td>\n",
       "      <td>0</td>\n",
       "    </tr>\n",
       "    <tr>\n",
       "      <th>2332525</th>\n",
       "      <td>2021-11-26</td>\n",
       "      <td>9997</td>\n",
       "      <td>688.0</td>\n",
       "      <td>-0.025496</td>\n",
       "      <td>0.012175</td>\n",
       "      <td>720.9</td>\n",
       "      <td>770.266667</td>\n",
       "      <td>0</td>\n",
       "      <td>0</td>\n",
       "    </tr>\n",
       "    <tr>\n",
       "      <th>2332526</th>\n",
       "      <td>2021-11-29</td>\n",
       "      <td>9997</td>\n",
       "      <td>668.0</td>\n",
       "      <td>-0.029070</td>\n",
       "      <td>0.012597</td>\n",
       "      <td>712.1</td>\n",
       "      <td>764.766667</td>\n",
       "      <td>0</td>\n",
       "      <td>0</td>\n",
       "    </tr>\n",
       "    <tr>\n",
       "      <th>2332527</th>\n",
       "      <td>2021-11-30</td>\n",
       "      <td>9997</td>\n",
       "      <td>667.0</td>\n",
       "      <td>-0.001497</td>\n",
       "      <td>0.013048</td>\n",
       "      <td>704.1</td>\n",
       "      <td>759.233333</td>\n",
       "      <td>0</td>\n",
       "      <td>0</td>\n",
       "    </tr>\n",
       "    <tr>\n",
       "      <th>2332528</th>\n",
       "      <td>2021-12-01</td>\n",
       "      <td>9997</td>\n",
       "      <td>685.0</td>\n",
       "      <td>0.026987</td>\n",
       "      <td>0.017161</td>\n",
       "      <td>699.5</td>\n",
       "      <td>754.266667</td>\n",
       "      <td>0</td>\n",
       "      <td>0</td>\n",
       "    </tr>\n",
       "    <tr>\n",
       "      <th>2332529</th>\n",
       "      <td>2021-12-02</td>\n",
       "      <td>9997</td>\n",
       "      <td>684.0</td>\n",
       "      <td>-0.001460</td>\n",
       "      <td>0.016872</td>\n",
       "      <td>694.5</td>\n",
       "      <td>749.433333</td>\n",
       "      <td>0</td>\n",
       "      <td>0</td>\n",
       "    </tr>\n",
       "    <tr>\n",
       "      <th>2332530</th>\n",
       "      <td>2021-12-03</td>\n",
       "      <td>9997</td>\n",
       "      <td>696.0</td>\n",
       "      <td>0.017544</td>\n",
       "      <td>0.017231</td>\n",
       "      <td>692.5</td>\n",
       "      <td>745.333333</td>\n",
       "      <td>0</td>\n",
       "      <td>0</td>\n",
       "    </tr>\n",
       "  </tbody>\n",
       "</table>\n",
       "</div>"
      ],
      "text/plain": [
       "              Date  SecuritiesCode  Close    Return  Volatility_10  MA_10  \\\n",
       "2332521 2021-11-19            9997  716.0  0.000000       0.010893  744.7   \n",
       "2332522 2021-11-22            9997  712.0 -0.005587       0.010850  739.2   \n",
       "2332523 2021-11-24            9997  703.0 -0.012640       0.010940  733.2   \n",
       "2332524 2021-11-25            9997  706.0  0.004267       0.011130  727.3   \n",
       "2332525 2021-11-26            9997  688.0 -0.025496       0.012175  720.9   \n",
       "2332526 2021-11-29            9997  668.0 -0.029070       0.012597  712.1   \n",
       "2332527 2021-11-30            9997  667.0 -0.001497       0.013048  704.1   \n",
       "2332528 2021-12-01            9997  685.0  0.026987       0.017161  699.5   \n",
       "2332529 2021-12-02            9997  684.0 -0.001460       0.016872  694.5   \n",
       "2332530 2021-12-03            9997  696.0  0.017544       0.017231  692.5   \n",
       "\n",
       "              MA_30  Crossover_Bullish  Vol_Surge_Flag  \n",
       "2332521  787.800000                  0               0  \n",
       "2332522  784.066667                  0               0  \n",
       "2332523  779.300000                  0               0  \n",
       "2332524  775.066667                  0               0  \n",
       "2332525  770.266667                  0               0  \n",
       "2332526  764.766667                  0               0  \n",
       "2332527  759.233333                  0               0  \n",
       "2332528  754.266667                  0               0  \n",
       "2332529  749.433333                  0               0  \n",
       "2332530  745.333333                  0               0  "
      ]
     },
     "execution_count": 4,
     "metadata": {},
     "output_type": "execute_result"
    }
   ],
   "source": [
    "# View sample data with features\n",
    "df[['Date', 'SecuritiesCode', 'Close', 'Return', 'Volatility_10', 'MA_10', 'MA_30', 'Crossover_Bullish', 'Vol_Surge_Flag']].tail(10)\n"
   ]
  },
  {
   "cell_type": "markdown",
   "id": "75779981",
   "metadata": {},
   "source": [
    "## 📊 Feature Distribution Examples"
   ]
  },
  {
   "cell_type": "code",
   "execution_count": 5,
   "id": "2983a375",
   "metadata": {},
   "outputs": [
    {
     "data": {
      "image/png": "[encoded data removed]",
      "text/plain": [
       "<Figure size 800x400 with 1 Axes>"
      ]
     },
     "metadata": {},
     "output_type": "display_data"
    }
   ],
   "source": [
    "# Distribution of Return\n",
    "plt.figure(figsize=(8,4))\n",
    "sns.histplot(df['Return'].dropna(), bins=100, kde=True)\n",
    "plt.title('Daily Return Distribution')\n",
    "plt.show()\n"
   ]
  }
 ],
 "metadata": {
  "kernelspec": {
   "display_name": "venv311",
   "language": "python",
   "name": "python3"
  },
  "language_info": {
   "codemirror_mode": {
    "name": "ipython",
    "version": 3
   },
   "file_extension": ".py",
   "mimetype": "text/x-python",
   "name": "python",
   "nbconvert_exporter": "python",
   "pygments_lexer": "ipython3",
   "version": "3.11.13"
  }
 },
 "nbformat": 4,
 "nbformat_minor": 5
}
